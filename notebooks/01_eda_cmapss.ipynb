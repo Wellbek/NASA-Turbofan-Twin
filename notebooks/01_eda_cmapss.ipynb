{
 "cells": [
  {
   "cell_type": "code",
   "execution_count": 1,
   "id": "7e2f502d-e2b7-4805-8aa8-da6964a427e9",
   "metadata": {},
   "outputs": [],
   "source": [
    "import sys\n",
    "sys.path.append('../src')\n",
    "\n",
    "import matplotlib.pyplot as plt\n",
    "import seaborn as sns\n",
    "\n",
    "from data_loader import CMAPSSLoader"
   ]
  },
  {
   "cell_type": "code",
   "execution_count": 2,
   "id": "7cfbd62e",
   "metadata": {},
   "outputs": [
    {
     "name": "stdout",
     "output_type": "stream",
     "text": [
      "Loaded FD003: 24720 records, 100 engines\n"
     ]
    }
   ],
   "source": [
    "loader = CMAPSSLoader()\n",
    "df = loader.load_dataset('FD003')"
   ]
  },
  {
   "cell_type": "code",
   "execution_count": 3,
   "id": "65d9a1aa-d0a9-4e79-841a-b125cd44dc43",
   "metadata": {},
   "outputs": [
    {
     "name": "stdout",
     "output_type": "stream",
     "text": [
      "Shape: (24720, 27)\n",
      "Engines: 100\n"
     ]
    },
    {
     "data": {
      "text/html": [
       "<div>\n",
       "<style scoped>\n",
       "    .dataframe tbody tr th:only-of-type {\n",
       "        vertical-align: middle;\n",
       "    }\n",
       "\n",
       "    .dataframe tbody tr th {\n",
       "        vertical-align: top;\n",
       "    }\n",
       "\n",
       "    .dataframe thead th {\n",
       "        text-align: right;\n",
       "    }\n",
       "</style>\n",
       "<table border=\"1\" class=\"dataframe\">\n",
       "  <thead>\n",
       "    <tr style=\"text-align: right;\">\n",
       "      <th></th>\n",
       "      <th>engine_id</th>\n",
       "      <th>time_cycles</th>\n",
       "      <th>operational_setting_1</th>\n",
       "      <th>operational_setting_2</th>\n",
       "      <th>operational_setting_3</th>\n",
       "      <th>sensor_1</th>\n",
       "      <th>sensor_2</th>\n",
       "      <th>sensor_3</th>\n",
       "      <th>sensor_4</th>\n",
       "      <th>sensor_5</th>\n",
       "      <th>...</th>\n",
       "      <th>sensor_13</th>\n",
       "      <th>sensor_14</th>\n",
       "      <th>sensor_15</th>\n",
       "      <th>sensor_16</th>\n",
       "      <th>sensor_17</th>\n",
       "      <th>sensor_18</th>\n",
       "      <th>sensor_19</th>\n",
       "      <th>sensor_20</th>\n",
       "      <th>sensor_21</th>\n",
       "      <th>RUL</th>\n",
       "    </tr>\n",
       "  </thead>\n",
       "  <tbody>\n",
       "    <tr>\n",
       "      <th>0</th>\n",
       "      <td>1</td>\n",
       "      <td>1</td>\n",
       "      <td>-0.0005</td>\n",
       "      <td>0.0004</td>\n",
       "      <td>100.0</td>\n",
       "      <td>518.67</td>\n",
       "      <td>642.36</td>\n",
       "      <td>1583.23</td>\n",
       "      <td>1396.84</td>\n",
       "      <td>14.62</td>\n",
       "      <td>...</td>\n",
       "      <td>2388.01</td>\n",
       "      <td>8145.32</td>\n",
       "      <td>8.4246</td>\n",
       "      <td>0.03</td>\n",
       "      <td>391</td>\n",
       "      <td>2388</td>\n",
       "      <td>100.0</td>\n",
       "      <td>39.11</td>\n",
       "      <td>23.3537</td>\n",
       "      <td>258</td>\n",
       "    </tr>\n",
       "    <tr>\n",
       "      <th>1</th>\n",
       "      <td>1</td>\n",
       "      <td>2</td>\n",
       "      <td>0.0008</td>\n",
       "      <td>-0.0003</td>\n",
       "      <td>100.0</td>\n",
       "      <td>518.67</td>\n",
       "      <td>642.50</td>\n",
       "      <td>1584.69</td>\n",
       "      <td>1396.89</td>\n",
       "      <td>14.62</td>\n",
       "      <td>...</td>\n",
       "      <td>2388.03</td>\n",
       "      <td>8152.85</td>\n",
       "      <td>8.4403</td>\n",
       "      <td>0.03</td>\n",
       "      <td>392</td>\n",
       "      <td>2388</td>\n",
       "      <td>100.0</td>\n",
       "      <td>38.99</td>\n",
       "      <td>23.4491</td>\n",
       "      <td>257</td>\n",
       "    </tr>\n",
       "    <tr>\n",
       "      <th>2</th>\n",
       "      <td>1</td>\n",
       "      <td>3</td>\n",
       "      <td>-0.0014</td>\n",
       "      <td>-0.0002</td>\n",
       "      <td>100.0</td>\n",
       "      <td>518.67</td>\n",
       "      <td>642.18</td>\n",
       "      <td>1582.35</td>\n",
       "      <td>1405.61</td>\n",
       "      <td>14.62</td>\n",
       "      <td>...</td>\n",
       "      <td>2388.00</td>\n",
       "      <td>8150.17</td>\n",
       "      <td>8.3901</td>\n",
       "      <td>0.03</td>\n",
       "      <td>391</td>\n",
       "      <td>2388</td>\n",
       "      <td>100.0</td>\n",
       "      <td>38.85</td>\n",
       "      <td>23.3669</td>\n",
       "      <td>256</td>\n",
       "    </tr>\n",
       "    <tr>\n",
       "      <th>3</th>\n",
       "      <td>1</td>\n",
       "      <td>4</td>\n",
       "      <td>-0.0020</td>\n",
       "      <td>0.0001</td>\n",
       "      <td>100.0</td>\n",
       "      <td>518.67</td>\n",
       "      <td>642.92</td>\n",
       "      <td>1585.61</td>\n",
       "      <td>1392.27</td>\n",
       "      <td>14.62</td>\n",
       "      <td>...</td>\n",
       "      <td>2388.08</td>\n",
       "      <td>8146.56</td>\n",
       "      <td>8.3878</td>\n",
       "      <td>0.03</td>\n",
       "      <td>392</td>\n",
       "      <td>2388</td>\n",
       "      <td>100.0</td>\n",
       "      <td>38.96</td>\n",
       "      <td>23.2951</td>\n",
       "      <td>255</td>\n",
       "    </tr>\n",
       "    <tr>\n",
       "      <th>4</th>\n",
       "      <td>1</td>\n",
       "      <td>5</td>\n",
       "      <td>0.0016</td>\n",
       "      <td>0.0000</td>\n",
       "      <td>100.0</td>\n",
       "      <td>518.67</td>\n",
       "      <td>641.68</td>\n",
       "      <td>1588.63</td>\n",
       "      <td>1397.65</td>\n",
       "      <td>14.62</td>\n",
       "      <td>...</td>\n",
       "      <td>2388.03</td>\n",
       "      <td>8147.80</td>\n",
       "      <td>8.3869</td>\n",
       "      <td>0.03</td>\n",
       "      <td>392</td>\n",
       "      <td>2388</td>\n",
       "      <td>100.0</td>\n",
       "      <td>39.14</td>\n",
       "      <td>23.4583</td>\n",
       "      <td>254</td>\n",
       "    </tr>\n",
       "  </tbody>\n",
       "</table>\n",
       "<p>5 rows × 27 columns</p>\n",
       "</div>"
      ],
      "text/plain": [
       "   engine_id  time_cycles  operational_setting_1  operational_setting_2  \\\n",
       "0          1            1                -0.0005                 0.0004   \n",
       "1          1            2                 0.0008                -0.0003   \n",
       "2          1            3                -0.0014                -0.0002   \n",
       "3          1            4                -0.0020                 0.0001   \n",
       "4          1            5                 0.0016                 0.0000   \n",
       "\n",
       "   operational_setting_3  sensor_1  sensor_2  sensor_3  sensor_4  sensor_5  \\\n",
       "0                  100.0    518.67    642.36   1583.23   1396.84     14.62   \n",
       "1                  100.0    518.67    642.50   1584.69   1396.89     14.62   \n",
       "2                  100.0    518.67    642.18   1582.35   1405.61     14.62   \n",
       "3                  100.0    518.67    642.92   1585.61   1392.27     14.62   \n",
       "4                  100.0    518.67    641.68   1588.63   1397.65     14.62   \n",
       "\n",
       "   ...  sensor_13  sensor_14  sensor_15  sensor_16  sensor_17  sensor_18  \\\n",
       "0  ...    2388.01    8145.32     8.4246       0.03        391       2388   \n",
       "1  ...    2388.03    8152.85     8.4403       0.03        392       2388   \n",
       "2  ...    2388.00    8150.17     8.3901       0.03        391       2388   \n",
       "3  ...    2388.08    8146.56     8.3878       0.03        392       2388   \n",
       "4  ...    2388.03    8147.80     8.3869       0.03        392       2388   \n",
       "\n",
       "   sensor_19  sensor_20  sensor_21  RUL  \n",
       "0      100.0      39.11    23.3537  258  \n",
       "1      100.0      38.99    23.4491  257  \n",
       "2      100.0      38.85    23.3669  256  \n",
       "3      100.0      38.96    23.2951  255  \n",
       "4      100.0      39.14    23.4583  254  \n",
       "\n",
       "[5 rows x 27 columns]"
      ]
     },
     "execution_count": 3,
     "metadata": {},
     "output_type": "execute_result"
    }
   ],
   "source": [
    "print(f\"Shape: {df.shape}\")\n",
    "print(f\"Engines: {df['engine_id'].nunique()}\")\n",
    "df.head()"
   ]
  },
  {
   "cell_type": "markdown",
   "id": "bed32fdb-7ff4-4215-b1c5-dbc08761d909",
   "metadata": {},
   "source": [
    "**Shows**: How much training data exists at each RUL level - this is valuable to assess the data availability for machine learning\n",
    "\n",
    "**Question**: \"How balanced is my training data across the degradation spectrum?\""
   ]
  },
  {
   "cell_type": "code",
   "execution_count": 4,
   "id": "85336dce-258d-4e95-be1f-58e12ed6540f",
   "metadata": {},
   "outputs": [
    {
     "data": {
      "image/png": "[encoded data removed]",
      "text/plain": [
       "<Figure size 1000x600 with 1 Axes>"
      ]
     },
     "metadata": {},
     "output_type": "display_data"
    }
   ],
   "source": [
    "plt.figure(figsize=(10, 6))\n",
    "plt.hist(df['RUL'], bins=50, alpha=0.7, edgecolor='grey')\n",
    "plt.title('RUL Data Distribution')\n",
    "plt.xlabel('RUL (cycles)')\n",
    "plt.ylabel('Number of Data')\n",
    "plt.grid(True, alpha=0.3)\n",
    "plt.show()"
   ]
  },
  {
   "cell_type": "markdown",
   "id": "4360f073-e968-47a6-998d-fdd254aa3a50",
   "metadata": {},
   "source": [
    "**Shows**: How long each individual engine lasted - answers the actual engineering problem\n",
    "\n",
    "**Question**: \"What's the typical lifespan of engines in my fleet?\""
   ]
  },
  {
   "cell_type": "code",
   "execution_count": 5,
   "id": "c45a01fc-102a-41ad-98d9-bfcb5dad69eb",
   "metadata": {},
   "outputs": [
    {
     "data": {
      "image/png": "[encoded data removed]",
      "text/plain": [
       "<Figure size 1000x600 with 1 Axes>"
      ]
     },
     "metadata": {},
     "output_type": "display_data"
    }
   ],
   "source": [
    "engine_lifetimes = df.groupby('engine_id')['time_cycles'].max()\n",
    "\n",
    "plt.figure(figsize=(10, 6))\n",
    "plt.hist(engine_lifetimes, bins=20, alpha=0.7, edgecolor='grey')\n",
    "plt.title('Engine Lifetime Distribution')\n",
    "plt.xlabel('RUL (cycles)')\n",
    "plt.ylabel('Number of Engines')\n",
    "plt.grid(True, alpha=0.3)\n",
    "plt.show()"
   ]
  },
  {
   "cell_type": "markdown",
   "id": "d923a259-1355-4ab1-9fba-b3bdd5f64254",
   "metadata": {},
   "source": [
    "## Correlation Heatmap of Sensors\n",
    "* **What it shows**: Pairwise correlation between all sensors. Red = strong positive correlation, blue = strong negative.\n",
    "\n",
    "* **Why valuable**:\n",
    "\n",
    "    * CMAPSS has many redundant sensors. Highly correlated sensors add little new information (they may be dropped).\n",
    "\n",
    "    * Completely uncorrelated sensors may be uninformative or noise.\n",
    "\n",
    "    * This helps dimension reduction and avoids overfitting."
   ]
  },
  {
   "cell_type": "code",
   "execution_count": null,
   "id": "6ad48d68-1d34-41e2-a3d8-97d55ff25b0c",
   "metadata": {},
   "outputs": [],
   "source": [
    "plt.figure(figsize=(12,10))\n",
    "sns.heatmap(df[[c for c in df.columns if 'sensor' in c]].corr(), cmap='coolwarm', center=0)\n",
    "plt.title(\"Sensor Correlation Heatmap\")\n",
    "plt.show()"
   ]
  },
  {
   "cell_type": "markdown",
   "id": "195eaf2f-54c5-49b5-91bc-9b1128ef0cf4",
   "metadata": {},
   "source": [
    "## Engine Sensor Time-Series\n",
    "\n",
    "* **What it shows**: How selected sensor values evolve over cycles for one engine (e.g., engine_id=1).\n",
    "\n",
    "* **Why valuable**:\n",
    "\n",
    "    * You can see degradation patterns: some sensors drift steadily as the engine wears, others fluctuate randomly.\n",
    "\n",
    "    * Identifies which sensors are potential “health indicators.”\n",
    "\n",
    "    * This visualization is often the first clue about which signals should be engineered into features."
   ]
  },
  {
   "cell_type": "code",
   "execution_count": null,
   "id": "6f3b35bc-8141-4fcd-88e9-0d1acf655cb6",
   "metadata": {},
   "outputs": [],
   "source": [
    "engine = 1\n",
    "subset = df[df.engine_id == engine]\n",
    "plt.figure(figsize=(12,6))\n",
    "for s in [f'sensor_{i}' for i in range(1,22)]:\n",
    "    plt.plot(subset['time_cycles'], subset[s], label=s)\n",
    "plt.legend()\n",
    "plt.title(f'Sensor Trends for Engine {engine}')\n",
    "plt.xlabel(\"Cycle\"); plt.ylabel(\"Sensor Reading\")\n",
    "plt.show()"
   ]
  },
  {
   "cell_type": "markdown",
   "id": "7e0ddce1-c46a-43b4-a815-3a5a821084e4",
   "metadata": {},
   "source": [
    "## Operational Settings Distribution\n",
    "\n",
    "* **What it shows**: Histograms of the three operating condition variables.\n",
    "\n",
    "* **Why valuable**: Engines don’t always operate under the same conditions; settings can affect sensor behavior and degradation speed.\n"
   ]
  },
  {
   "cell_type": "code",
   "execution_count": null,
   "id": "28a1b793-28c0-4a95-98cc-0b9bd3fc1ea1",
   "metadata": {},
   "outputs": [],
   "source": [
    "fig, axes = plt.subplots(1, 3, figsize=(15,5))\n",
    "for i, col in enumerate([f'operational_setting_{j}' for j in range(1,4)]):\n",
    "    sns.histplot(df[col], bins=30, ax=axes[i])\n",
    "    axes[i].set_title(f\"Distribution of {col}\")\n",
    "plt.tight_layout()\n",
    "plt.show()"
   ]
  },
  {
   "cell_type": "markdown",
   "id": "d0289cba-1d39-4a78-9fdc-1891678225f1",
   "metadata": {},
   "source": [
    "## Sensor Vs. RUL Scatter\n",
    "\n",
    "* **What it shows**: Relationship between a single sensor reading and the Remaining Useful Life.\n",
    "\n",
    "* **Why valuable**:\n",
    "\n",
    "    * Sensors that show a clear monotonic trend with RUL (e.g., values increase/decrease as RUL decreases) are predictive.\n",
    "\n",
    "    * Scatter plots help identify sensors that correlate with failure timing vs. those that are just noise."
   ]
  },
  {
   "cell_type": "code",
   "execution_count": null,
   "id": "fbbf02e8-3ea9-4d8d-8d73-9e7f65c56eac",
   "metadata": {},
   "outputs": [],
   "source": [
    "sns.scatterplot(x='sensor_3', y='RUL', data=df.sample(5000))\n",
    "plt.title(\"Sensor 3 vs RUL\")\n",
    "plt.show()\n"
   ]
  },
  {
   "cell_type": "markdown",
   "id": "9b906622-dcfc-4609-ba00-f3c8ace884de",
   "metadata": {},
   "source": [
    "## Normalized Lifecycle Plots\n",
    "\n",
    "* **What it shows**: Sensor trajectories averaged across engines, aligned by normalized cycle (0=start, 1=end-of-life).\n",
    "\n",
    "* **Why valuable**:\n",
    "\n",
    "    * Without normalization, engines run at different cycle counts, so trends are hard to compare.\n",
    "\n",
    "    * Normalization reveals consistent degradation patterns across engines."
   ]
  },
  {
   "cell_type": "code",
   "execution_count": null,
   "id": "c243f624-ee7e-4ae8-be8d-f75818dd3c84",
   "metadata": {},
   "outputs": [],
   "source": [
    "normed = df.copy()\n",
    "normed['cycle_norm'] = normed.groupby('engine_id')['time_cycles'].transform(\n",
    "    lambda x: x / x.max()\n",
    ")\n",
    "\n",
    "avg_trend = normed.groupby('cycle_norm')['sensor_3'].mean()\n",
    "\n",
    "plt.plot(avg_trend.index, avg_trend.values)\n",
    "plt.title(\"Average Sensor 3 across Normalized Lifecycle\")\n",
    "plt.xlabel(\"Normalized Cycle (0=start,1=end)\")\n",
    "plt.ylabel(\"Mean Sensor Value\")\n",
    "plt.show()\n"
   ]
  },
  {
   "cell_type": "code",
   "execution_count": null,
   "id": "627d6d19-d01d-4554-ad34-74034b3939a8",
   "metadata": {},
   "outputs": [],
   "source": []
  }
 ],
 "metadata": {
  "kernelspec": {
   "display_name": "Python 3 (system)",
   "language": "python",
   "name": "python3"
  },
  "language_info": {
   "codemirror_mode": {
    "name": "ipython",
    "version": 3
   },
   "file_extension": ".py",
   "mimetype": "text/x-python",
   "name": "python",
   "nbconvert_exporter": "python",
   "pygments_lexer": "ipython3",
   "version": "3.13.7"
  }
 },
 "nbformat": 4,
 "nbformat_minor": 5
}
