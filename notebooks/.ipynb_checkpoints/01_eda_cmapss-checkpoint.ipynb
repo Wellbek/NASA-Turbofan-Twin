{
 "cells": [
  {
   "cell_type": "code",
   "execution_count": 1,
   "id": "7cfbd62e",
   "metadata": {},
   "outputs": [
    {
     "ename": "ModuleNotFoundError",
     "evalue": "No module named 'data_loader'",
     "output_type": "error",
     "traceback": [
      "\u001b[31m---------------------------------------------------------------------------\u001b[39m",
      "\u001b[31mModuleNotFoundError\u001b[39m                       Traceback (most recent call last)",
      "\u001b[36mCell\u001b[39m\u001b[36m \u001b[39m\u001b[32mIn[1]\u001b[39m\u001b[32m, line 1\u001b[39m\n\u001b[32m----> \u001b[39m\u001b[32m1\u001b[39m \u001b[38;5;28;01mfrom\u001b[39;00m\u001b[38;5;250m \u001b[39m\u001b[34;01mdata_loader\u001b[39;00m\u001b[38;5;250m \u001b[39m\u001b[38;5;28;01mimport\u001b[39;00m CMAPSSLoader\n\u001b[32m      2\u001b[39m loader = CMAPSSLoader()\n\u001b[32m      3\u001b[39m df = loader.load_dataset(\u001b[33m'\u001b[39m\u001b[33mFD001\u001b[39m\u001b[33m'\u001b[39m)\n",
      "\u001b[31mModuleNotFoundError\u001b[39m: No module named 'data_loader'"
     ]
    }
   ],
   "source": [
    "import sys\n",
    "sys.path.append('../src')\n",
    "\n",
    "from data_loader import CMAPSSLoader\n",
    "loader = CMAPSSLoader()\n",
    "df = loader.load_dataset('FD001')"
   ]
  },
  {
   "cell_type": "code",
   "execution_count": null,
   "id": "beef2cf1-7082-418e-b0c5-2c165958dc36",
   "metadata": {},
   "outputs": [],
   "source": []
  }
 ],
 "metadata": {
  "kernelspec": {
   "display_name": "Python 3 (system)",
   "language": "python",
   "name": "python3"
  },
  "language_info": {
   "codemirror_mode": {
    "name": "ipython",
    "version": 3
   },
   "file_extension": ".py",
   "mimetype": "text/x-python",
   "name": "python",
   "nbconvert_exporter": "python",
   "pygments_lexer": "ipython3",
   "version": "3.13.7"
  }
 },
 "nbformat": 4,
 "nbformat_minor": 5
}
